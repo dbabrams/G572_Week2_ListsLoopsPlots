{
 "cells": [
  {
   "cell_type": "markdown",
   "metadata": {},
   "source": [
    "<a id='Top'></a>\n",
    "# <center>Week 2 Lecture Notes: Lists of numbers; Plotting in Python</center>\n",
    "\n",
    "<ul>\n",
    "    <li><a href='#List'>I. Lists</a></li>\n",
    "    <li><a href='#Index'>II. Indexing and Slicing</a></li>\n",
    "    <li><a href='#Loop'>III. Looping through Lists</a></li>\n",
    "    <li><a href='#Plotting'>IV. Plotting</a></li>\n",
    "</ul>"
   ]
  },
  {
   "cell_type": "markdown",
   "metadata": {},
   "source": [
    "<a id='List'></a>\n",
    "\n",
    "# I. Lists in Python\n",
    "\n",
    "Recommended Resources: \n",
    "https://www.geeksforgeeks.org/python-list/\n"
   ]
  },
  {
   "cell_type": "markdown",
   "metadata": {},
   "source": [
    "There are many different types of data structures in Python; as the semester proceeds, you will be introduced to many (but not all) all these. \n",
    "\n",
    "For the next couple of weeks, we are going to focus on time-series data, which can be stored in Python as a sequence of values. There are many types of sequences in Python; you have already seen one of those (`strings`). In this notebook, we are going to focus on one of the most versatile Python sequences, the <b>list</b>. "
   ]
  },
  {
   "cell_type": "markdown",
   "metadata": {},
   "source": [
    "Lists are created by inserting a sequence of comma-separated values between square brackets, as follows:"
   ]
  },
  {
   "cell_type": "markdown",
   "metadata": {},
   "source": [
    "Note that lists are rather versatile, and can contain any combination of integers, floats, strings, etc."
   ]
  },
  {
   "cell_type": "markdown",
   "metadata": {},
   "source": [
    "Recall that it is useful to check data types when troubleshooting code. You may want to determine that you are indeed working with a list, or that all entries in a list are of the same data type."
   ]
  },
  {
   "cell_type": "markdown",
   "metadata": {},
   "source": [
    "There are a number of actions that we can perform on lists. The following example shows how to append the integer 4 to our testlist."
   ]
  },
  {
   "cell_type": "markdown",
   "metadata": {},
   "source": [
    "Append is what we refer to as a <b>method</b>, which is similar to a function. Unlike a function, which would create a new list, methods act directly on an object (in this case, testlist). \n",
    "\n",
    "<b>Be cautious when using methods, because they often change your original data.</b>"
   ]
  },
  {
   "cell_type": "markdown",
   "metadata": {},
   "source": [
    "### Practice exercise"
   ]
  },
  {
   "cell_type": "markdown",
   "metadata": {},
   "source": [
    "Calculate the mean and median from the following list. \n",
    "\n",
    "Hint 1: you should rely on an existing Python package.\n",
    "\n",
    "Hint 2: Google is your friend."
   ]
  },
  {
   "cell_type": "code",
   "execution_count": 6,
   "metadata": {},
   "outputs": [],
   "source": [
    "# list to perform statistics on\n",
    "statlist = [100, 102.1, 250, 110.3, 99.12, 98]"
   ]
  },
  {
   "cell_type": "code",
   "execution_count": 40,
   "metadata": {},
   "outputs": [],
   "source": [
    "# Write code here\n",
    "\n",
    "\n",
    "\n",
    "\n",
    "\n",
    "\n",
    "\n",
    "\n",
    "\n",
    "\n",
    "\n",
    "\n",
    "\n",
    "\n",
    "\n",
    "\n",
    "\n",
    "\n",
    "\n",
    "\n",
    "\n",
    "\n",
    "\n",
    "\n",
    "\n",
    "\n",
    "\n",
    "\n",
    "\n",
    "\n",
    "\n",
    "\n",
    "\n",
    "\n",
    "\n",
    "\n",
    "\n",
    "\n",
    "\n",
    "\n",
    "\n",
    "\n",
    "\n",
    "\n",
    "\n",
    "\n",
    "\n"
   ]
  },
  {
   "cell_type": "code",
   "execution_count": 7,
   "metadata": {},
   "outputs": [
    {
     "name": "stdout",
     "output_type": "stream",
     "text": [
      "126.58666666666667\n"
     ]
    }
   ],
   "source": [
    "# Answer\n",
    "import statistics\n",
    "meanlist = statistics.mean(statlist)\n",
    "print(meanlist)"
   ]
  },
  {
   "cell_type": "markdown",
   "metadata": {},
   "source": [
    "<a id='Index'></a>\n",
    "\n",
    "# II. Indexing and slicing\n",
    "\n",
    "We often need to access a specific value from a list, called <b>indexing</b>. Let's see what happens when we index `testlist` at index value 1. This is done by writing index-value within closed brackets immediately following the name of a pre-defined list:"
   ]
  },
  {
   "cell_type": "markdown",
   "metadata": {},
   "source": [
    "If you are used to coding in other languages, you might have expeted this to return the value 1, but this actually returns the value 2. <b>Remember that Python is 0-indexed, so to return the first value in a list, you need to access index 0.</b> "
   ]
  },
  {
   "cell_type": "markdown",
   "metadata": {},
   "source": [
    "To extract the last value, you need to access index-2."
   ]
  },
  {
   "cell_type": "markdown",
   "metadata": {},
   "source": [
    "Trying to access index-3 will result in a `IndexError` if the list only contains three values."
   ]
  },
  {
   "cell_type": "markdown",
   "metadata": {},
   "source": [
    "A handy trick is that Python uses negative values to count backward, so you can also access the -1 index to return the last value in a list."
   ]
  },
  {
   "cell_type": "markdown",
   "metadata": {},
   "source": [
    "Often a coder needs to access multiple values of a list, called slicing. Let's slice out the first two values. This is done like indexing, but rather than a single value between the square brackets, the coder defines start:end instead. \n",
    "\n",
    "Since we are slicing the first two values, you might expect the following to work:"
   ]
  },
  {
   "cell_type": "markdown",
   "metadata": {},
   "source": [
    "The above code returns a list (hence the square brackets in the output), but only one value within the list, the first one. The correct code is to write `testlist[0:2]` to return a list with only the first two values:"
   ]
  },
  {
   "cell_type": "markdown",
   "metadata": {},
   "source": [
    "The following image clarifies how slicing works, only in this case it is working on strings rather than lists. When slicing, the start value indicates the tick mark defining the start of the slice, while the end value indicates the tick mark defining the end of the slice. In this case, slicing from 3:8 would return 'KSFOR'. \n",
    "\n",
    "![Image of slicing](https://media.geeksforgeeks.org/wp-content/uploads/List-Slicing.jpg)\n",
    "\n",
    "Image from https://www.geeksforgeeks.org/python-list/. \n",
    "\n",
    "Let's code it up to confirm."
   ]
  },
  {
   "cell_type": "markdown",
   "metadata": {},
   "source": [
    "Note that when slicing, from the begining of a string to some specified point, you don't have to type the 0-index. Similarly, you don't have to type the last index when slicing a section at the end of a sequence (string, list).\n",
    "\n",
    "The latter is particularly useful if a coder does not know apriori how long the list is going to be, or if it changes size."
   ]
  },
  {
   "cell_type": "markdown",
   "metadata": {},
   "source": [
    "### Practice problems for outside of class\n",
    "Consider the list defined below. In the following code cells, perform the indexing or slicing as instructed in the comment of that cell."
   ]
  },
  {
   "cell_type": "code",
   "execution_count": 42,
   "metadata": {},
   "outputs": [],
   "source": [
    "# do not code in this cell, it defines your list for this problem\n",
    "p2_list = [1,3,5,9,12,190,320]"
   ]
  },
  {
   "cell_type": "code",
   "execution_count": 0,
   "metadata": {},
   "outputs": [],
   "source": [
    "# access the 4th value of testlist using positive indexing"
   ]
  },
  {
   "cell_type": "code",
   "execution_count": 0,
   "metadata": {},
   "outputs": [],
   "source": [
    "# access the 4th value of testlist using negative indexing"
   ]
  },
  {
   "cell_type": "code",
   "execution_count": 0,
   "metadata": {},
   "outputs": [],
   "source": [
    "# access the last three values of testlist using positive slicing"
   ]
  },
  {
   "cell_type": "code",
   "execution_count": 0,
   "metadata": {},
   "outputs": [],
   "source": [
    "# access the last three values of testlist using negative slicing"
   ]
  },
  {
   "cell_type": "code",
   "execution_count": 0,
   "metadata": {},
   "outputs": [],
   "source": [
    "# using slicing, return a list without the first and last values of testlist\n",
    "\n",
    "\n",
    "\n",
    "\n",
    "\n",
    "\n",
    "\n",
    "\n",
    "\n",
    "\n",
    "\n",
    "\n",
    "\n",
    "\n",
    "\n",
    "\n",
    "\n",
    "\n",
    "\n",
    "\n",
    "\n",
    "\n",
    "\n",
    "\n",
    "\n",
    "\n",
    "\n",
    "\n",
    "\n"
   ]
  },
  {
   "cell_type": "markdown",
   "metadata": {},
   "source": [
    "### Practice problems for outside of class (Answers)"
   ]
  },
  {
   "cell_type": "code",
   "execution_count": 43,
   "metadata": {},
   "outputs": [
    {
     "data": {
      "text/plain": [
       "9"
      ]
     },
     "execution_count": 43,
     "metadata": {},
     "output_type": "execute_result"
    }
   ],
   "source": [
    "# access the 4th value of testlist using positive indexing\n",
    "p2_list[3]"
   ]
  },
  {
   "cell_type": "code",
   "execution_count": 44,
   "metadata": {},
   "outputs": [
    {
     "data": {
      "text/plain": [
       "9"
      ]
     },
     "execution_count": 44,
     "metadata": {},
     "output_type": "execute_result"
    }
   ],
   "source": [
    "# access the 4th value of testlist using negative indexing\n",
    "p2_list[-4]"
   ]
  },
  {
   "cell_type": "code",
   "execution_count": 45,
   "metadata": {},
   "outputs": [
    {
     "data": {
      "text/plain": [
       "[12, 190, 320]"
      ]
     },
     "execution_count": 45,
     "metadata": {},
     "output_type": "execute_result"
    }
   ],
   "source": [
    "# access the last three values of testlist using positive slicing\n",
    "p2_list[4:]"
   ]
  },
  {
   "cell_type": "code",
   "execution_count": 47,
   "metadata": {},
   "outputs": [
    {
     "data": {
      "text/plain": [
       "[12, 190, 320]"
      ]
     },
     "execution_count": 47,
     "metadata": {},
     "output_type": "execute_result"
    }
   ],
   "source": [
    "# access the last three values of testlist using negative slicing\n",
    "p2_list[-3:]"
   ]
  },
  {
   "cell_type": "code",
   "execution_count": 48,
   "metadata": {},
   "outputs": [
    {
     "data": {
      "text/plain": [
       "[3, 5, 9, 12, 190]"
      ]
     },
     "execution_count": 48,
     "metadata": {},
     "output_type": "execute_result"
    }
   ],
   "source": [
    "# using slicing, return a list without the first and last values of testlist\n",
    "p2_list[1:-1]"
   ]
  },
  {
   "cell_type": "markdown",
   "metadata": {},
   "source": [
    "<a id='Loop'></a>\n",
    "\n",
    "# III. Looping through lists\n",
    "You have already been introduced to loops. It is often very useful to iterate through the values of a list using such a loop. \n",
    "\n",
    "Unlike many other languages, Python allows you to loop through all entries in the list directly. Let's test it out:"
   ]
  },
  {
   "cell_type": "markdown",
   "metadata": {},
   "source": [
    "Sometimes we need indices and values in the same loop, but which is possible using the enumerate function:"
   ]
  },
  {
   "cell_type": "markdown",
   "metadata": {},
   "source": [
    "### Example Problem: Unit Conversion\n",
    "Most of the data at the ISWS are in Imperial Units rather than Metric. That means that unit conversion is often essential, particularly when discussing Illinois issues with a national audience. Convert the heads in the following list from feet to meters. "
   ]
  },
  {
   "cell_type": "markdown",
   "metadata": {},
   "source": [
    "### Example Problem: Darcy's Law"
   ]
  },
  {
   "cell_type": "markdown",
   "metadata": {},
   "source": [
    "### Practice Problem: Gallons per year to Cubic Feet per day\n",
    "As we will find out later this semester, the groundwater flow model works with consistent length and time units. Most of the models at the ISWS are in units of $ft$ and $days$, meaning that pumpage has to be assigned as $ft^3/d$. However, pumpage is generally reported to the ISWS by communities as gallons per year.\n",
    "\n",
    "Convert the following reported units ($gallons/year$) to model-ready units ($ft^3/d$)."
   ]
  },
  {
   "cell_type": "code",
   "execution_count": 49,
   "metadata": {},
   "outputs": [],
   "source": [
    "# pumpage in gallons per year\n",
    "gpy = [10000000, 32892902, 32890183010, 3801329, 389201473]\n",
    "\n",
    "\n",
    "\n",
    "\n",
    "\n",
    "\n",
    "\n",
    "\n",
    "\n",
    "\n",
    "\n",
    "\n",
    "\n",
    "\n",
    "\n",
    "\n",
    "\n",
    "\n",
    "\n",
    "\n",
    "\n",
    "\n",
    "\n",
    "\n",
    "\n",
    "\n",
    "\n",
    "\n",
    "\n",
    "\n",
    "\n",
    "\n",
    "\n",
    "\n",
    "\n",
    "\n",
    "\n",
    "\n",
    "\n",
    "\n"
   ]
  },
  {
   "cell_type": "code",
   "execution_count": 50,
   "metadata": {},
   "outputs": [
    {
     "name": "stdout",
     "output_type": "stream",
     "text": [
      "[3659.986310746064, 12038.757104071185, 12037761.957453279, 1391.2812102642024, 142447.2063302204]\n"
     ]
    }
   ],
   "source": [
    "# Answer\n",
    "cfd = [0.133681*x/365.25 for x in gpy]\n",
    "print(cfd)"
   ]
  },
  {
   "cell_type": "markdown",
   "metadata": {},
   "source": [
    "<a id='Plotting'></a>\n",
    "# IV. Plotting data\n",
    "One of the more powerful libraries for Python is MatplotLib. Although mostly used for 2D plotting it does have some 3D plotting capabilities. For now, let's make a simple x-y plot from two lists. The first list defines the time (x) axis in years, while the second defines the observed head in ft above mean sea level."
   ]
  },
  {
   "cell_type": "code",
   "execution_count": 32,
   "metadata": {},
   "outputs": [],
   "source": [
    "# time in years\n",
    "timerange = [2000,2001,2002,2003,2004,2005,2006,2008,2009,2010,2011,2012,2013,2014,2015,2016,2017,2018]\n",
    "# head in feet above mean sea level\n",
    "headrange = [91, 34, 16, 14, 12, 5, -11, -31, -49, -59, -77, -116, -119, -148, -161, -178, -183, -184]"
   ]
  },
  {
   "cell_type": "markdown",
   "metadata": {},
   "source": [
    "The MatplotLib library is quite expansive, so it is useful to import the entire library as well as subsets (simply for code briefness).\n",
    "\n",
    "In addition, `%matplotlib inline` is a command for Jupyter Notebook that improves the display of plots. It is not used in Python code outside of Jupyter."
   ]
  },
  {
   "cell_type": "markdown",
   "metadata": {},
   "source": [
    "Now let's add labels and a title."
   ]
  },
  {
   "cell_type": "markdown",
   "metadata": {},
   "source": [
    "On the axes, let's make the time axis as integers and rotate the tick-values by 45 degrees. Let's also set the y-axis to a range of -300 to 200 ft. There are also a few other modifications to font size that are added to this code."
   ]
  }
 ],
 "metadata": {
  "kernelspec": {
   "display_name": "Python 3",
   "language": "python",
   "name": "python3"
  },
  "language_info": {
   "codemirror_mode": {
    "name": "ipython",
    "version": 3
   },
   "file_extension": ".py",
   "mimetype": "text/x-python",
   "name": "python",
   "nbconvert_exporter": "python",
   "pygments_lexer": "ipython3",
   "version": "3.7.4"
  }
 },
 "nbformat": 4,
 "nbformat_minor": 1
}
