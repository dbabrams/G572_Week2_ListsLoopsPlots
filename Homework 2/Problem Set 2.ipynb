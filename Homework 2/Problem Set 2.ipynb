{
 "cells": [
  {
   "cell_type": "markdown",
   "metadata": {},
   "source": [
    "<a id='Top'></a>\n",
    "# <center>Problem Set 2</center>\n",
    "\n",
    "## <center>Due February 5th at 10:00 pm</center>"
   ]
  },
  {
   "cell_type": "markdown",
   "metadata": {},
   "source": [
    "<a id='Top'></a>\n",
    "# <center>Northeastern Illinois Deep Aquifer Sandstone Supply Issues</center>\n",
    "\n",
    "In this problem set, you are going to be working with data related the deep sandstone aquifer of northeastern Illinois. This aquifer has been in the local news around Joliet and Aurora recently because of large and continuing declines in heads due to 150+ years of unsustainable withdrawals. [Click here](https://www.ideals.illinois.edu/bitstream/handle/2142/99644/gwavailneildeepaquiferfactsheet2_2015-02.pdf?sequence=2&isAllowed=y) to read a short paper discussing the issue, and [click here](https://www.theherald-news.com/2017/03/28/joliet-explores-options-on-future-water-supplies/ax3gcyb/) to read a recent local news article. Many communities and industries in this region, particularly Will, Kendall, Kane, and McHenry Counties, rely on deep sandstone wells as their source of water. As you can see in the above image, withdrawals from the sandstone increased fairly steadily from the mid-1800s to 1980, when some communities in Cook, DuPage, and Lake Counties started to switch to Lake Michigan water. From 1980 to 2000, demands decreased due to these switches. Since then withdrawals have been increasing at a slower rate."
   ]
  },
  {
   "attachments": {},
   "cell_type": "markdown",
   "metadata": {},
   "source": [
    "# <center><font color='blue'>Problem 1</font></center>\n",
    "\n",
    "In this problem, you are going to work with water levels at two wells, `Elk Grove Village #2` and `Joliet #10`. Elk Grove Village, which is next to O'Hare International Airport, is one of the many Cook County communities that switched off the sandstone in the 1980s. Joliet is in Will County, where sandstone usage persists. In fact, `Joliet #10` is located at the center of the cone of depression."
   ]
  },
  {
   "cell_type": "code",
   "execution_count": null,
   "metadata": {},
   "outputs": [],
   "source": [
    "# Use this cell to add necessary packages, modules, or libraries"
   ]
  },
  {
   "cell_type": "code",
   "execution_count": 2,
   "metadata": {},
   "outputs": [],
   "source": [
    "# do not modify this cell, it contains the information you need to solve this problem\n",
    "\n",
    "# Joliet #10\n",
    "j10time = [1970, 1973, 1975, 1976, 1985, 1991, 1995, 2007, 2014, 2017] # Time in years\n",
    "j10dtw = [510, 570, 605, 630, 522, 749, 845, 813, 808, 887] # Depth to Water in ft below land surface\n",
    "j10_ls = 605 # Land Surface in ft above MSL\n",
    "\n",
    "# Elk Grove Village #2\n",
    "eg2time = [1971,1973,1974,1978,1979,1980,1985,1991,1995,2000,2006,2007,2014] # Time in years\n",
    "eg2dtw = [617,728,739,791,787,834,924,715,655,590,560,520,500] # Depth to Water in ft below land surface\n",
    "eg2_ls = 681 # Land Surface in ft above MSL"
   ]
  },
  {
   "cell_type": "markdown",
   "metadata": {},
   "source": [
    "### <font color = purple>Part A</font>\n",
    "\n",
    "The Illinois State Water Survey has determined that sandstone wells in Northeatern Illinois are potentially at-risk when heads approach the top of the uppermost sandstone layer. Using ILWATER (http://isgs.illinois.edu/ilwater), find the well logs for `Elk Grove Village #2` and `Joliet #10` and determine the top of the sandstone aquifer for each. Populate the variables with the appropriate values\n",
    "\n",
    "Hint 1, it will be useful to search by the p-number of each well. The pnumber for EG2 is 410765 and for J10 is 409247.\n",
    "\n",
    "Hint 2, ILWATER reports elevations as depth below land surface. "
   ]
  },
  {
   "cell_type": "code",
   "execution_count": 0,
   "metadata": {},
   "outputs": [],
   "source": [
    "# Sandstone top elevations in ft above mean sea level\n",
    "j10_sstop = \n",
    "eg2_sstop = "
   ]
  },
  {
   "cell_type": "markdown",
   "metadata": {},
   "source": [
    "### <font color = purple>Part B</font>\n",
    "\n",
    "Make two hydrographs, the first for Elk Grove and the other for Joliet. Each hydrograph should be created using the following rules:\n",
    "\n",
    "<ul>\n",
    "    <li>Rule 1: The y-axis should show elevation in feet above MSL.</li>\n",
    "    <li>Rule 2: The hydrograph should include a dashed line showing the top elevation of the sandstone</li>\n",
    "    <li>Rule 3: Include a title and axes labels.</li>\n",
    "    <li>Rule 4: Make sure that all numbers on the axes are readable.</li>\n",
    "</ul>"
   ]
  },
  {
   "cell_type": "code",
   "execution_count": 5,
   "metadata": {},
   "outputs": [],
   "source": [
    "# Write your code in this cell"
   ]
  },
  {
   "cell_type": "markdown",
   "metadata": {},
   "source": [
    "### <font color = purple>Part C</font>\n",
    "\n",
    "An official from Elk Grove sees your hydrograph and is impressed by how much heads recovered when they switched off the aquifer. Similarly, she has heard that Joliet is going to switch off the sandstone aquifer by 2030. She asks you if you think Elk Grove would be safe to return to the sandstone aquifer after 2030. \n",
    "\n",
    "In the following Markdown Cell, in no more than a paragraph, write your response.\n",
    "\n",
    "<b>There is not a single correct answer, I am more interested in how you each think about this problem.</b>"
   ]
  },
  {
   "cell_type": "markdown",
   "metadata": {},
   "source": [
    "### <font color = purple>Insert your answer for Part C here</font>"
   ]
  },
  {
   "cell_type": "markdown",
   "metadata": {},
   "source": [
    "<a href='#Top'>Return to top</a>"
   ]
  },
  {
   "cell_type": "markdown",
   "metadata": {},
   "source": [
    "# <center><font color='blue'>Problem 2</font></center>\n",
    "\n",
    "Not all communities rely just on a single source of water in northeastern Illinois. Aurora uses water from the Fox River, Sand and Gravel Aquifer, and Sandstone Aquifer. "
   ]
  },
  {
   "cell_type": "code",
   "execution_count": 6,
   "metadata": {},
   "outputs": [],
   "source": [
    "year = [1979,1980,1981,1982,1983,1984,1985,1986,1987,1988,1989,1990,1991,1992,1993,1994,1995,1996,1997,1998,1999,2000,2001,2002,2003,2004,2005,2006,2007,2008,2009,2010,2011,2012,2013]\n",
    "\n",
    "# Fox River Water withdrawals (MGD)\n",
    "aur_sw=[0,0,0,0,0,0,0,0,0,0,0,0,0,6.720876112,6.670770705,9.413612594,9.875904175,9.541251198,9.307373032,8.845831622,8.771378508,9.310360027,10.98242574,9.70968104,10.19556742,8.200588638,7.456098563,8.338937714,8.798113621,9.437147159,10.2749514,10.16691307,9.694245038,8.018042437,8.152717317]\n",
    "\n",
    "# Sand and Gravel Aquifer Withdrawals (MGD)\n",
    "aur_sg=[0,0,0,0,0,0,0,0,0,0.098507871,0.155378508,0.473393566,1.045163587,2.536982888,3.19156742,2.243318275,1.345976728,1.407479808,1.156969199,1.274132786,1.480755647,1.556421629,1.277754962,1.315772758,0.478743326,0.972618754,1.33785681,1.253837098,1.102926762,1.248583162,1.186140999,1.065472964,1.194557153,2.17342642,2.609475702]\n",
    "\n",
    "#Sandstone Aquifer Withdrawals (MGD)\n",
    "aur_ss=[8.963378508,9.876219028,9.718031485,9.680703628,10.39757153,10.45133196,10.36593018,10.58750992,10.58750992,11.11216701,11.15099795,10.83506092,10.84645859,4.182590007,3.578984257,3.609765914,4.343296372,4.369908282,4.901404517,5.560232717,5.798061602,5.807901437,5.802009582,7.810455852,7.030223135,9.628071184,9.291342916,7.863422313,8.125229295,6.75059822,6.066447639,6.088202601,6.005174538,7.951734428,7.290847365]"
   ]
  },
  {
   "cell_type": "markdown",
   "metadata": {},
   "source": [
    "### <font color = purple>Part A</font>\n",
    "\n",
    "Make a new plot that shows the pumpage each year from the three different sources, using the following rules\n",
    "<ul>\n",
    "    <li>Rule 1: The y-axis should show withdrawals in Mgd.</b></li>\n",
    "    <li>Rule 2: Include a legend that clearly distinguishes between the three sources of water.</li>\n",
    "    <li>Rule 3: The figure should include a title and axes labels.</li>\n",
    "    <li>Rule 4: Make sure that all numbers on the axes are readable.</li>\n",
    "</ul>"
   ]
  },
  {
   "cell_type": "code",
   "execution_count": 0,
   "metadata": {},
   "outputs": [],
   "source": [
    "# Write code here"
   ]
  },
  {
   "cell_type": "markdown",
   "metadata": {},
   "source": [
    "### <font color = purple>Part B</font>\n",
    "\n",
    "Create a pie chart showing the relative proportions of sandstone, sand and gravel, and surface water usages in Aurora for the most recent year of reporting.\n",
    "\n",
    "Refer to the following example code. More details on this pie chart can be found at:\n",
    "https://pythonspot.com/matplotlib-pie-chart/"
   ]
  },
  {
   "cell_type": "code",
   "execution_count": 7,
   "metadata": {},
   "outputs": [
    {
     "data": {
      "image/png": "[encoded data removed]",
      "text/plain": [
       "<Figure size 432x288 with 1 Axes>"
      ]
     },
     "metadata": {},
     "output_type": "display_data"
    }
   ],
   "source": [
    "# this code is just for demonstration, write your code below the list of rules.\n",
    "\n",
    "# Data to plot\n",
    "labels = 'Python', 'C++', 'Ruby', 'Java'\n",
    "sizes = [215, 130, 245, 210]\n",
    "colors = ['gold', 'yellowgreen', 'lightcoral', 'lightskyblue']\n",
    "explode = (0.1, 0, 0, 0)  # explode 1st slice\n",
    " \n",
    "# Plot\n",
    "plt.pie(sizes, explode=explode, labels=labels, colors=colors,\n",
    "        autopct='%1.1f%%', shadow=True, startangle=140)\n",
    " \n",
    "plt.axis('equal')\n",
    "plt.show()"
   ]
  },
  {
   "cell_type": "markdown",
   "metadata": {},
   "source": [
    "Rules:\n",
    "<ul>\n",
    "    <li>Rule 1: Explode sandstone usage.</li>\n",
    "    <li>Rule 2: The colors in the chart should be distinguishable for red-green color blind readers (meaning don't use both red and green).</li>\n",
    "</ul>"
   ]
  },
  {
   "cell_type": "code",
   "execution_count": 0,
   "metadata": {},
   "outputs": [],
   "source": [
    "# Write your code here"
   ]
  }
 ],
 "metadata": {
  "kernelspec": {
   "display_name": "Python 3",
   "language": "python",
   "name": "python3"
  },
  "language_info": {
   "codemirror_mode": {
    "name": "ipython",
    "version": 3
   },
   "file_extension": ".py",
   "mimetype": "text/x-python",
   "name": "python",
   "nbconvert_exporter": "python",
   "pygments_lexer": "ipython3",
   "version": "3.7.4"
  }
 },
 "nbformat": 4,
 "nbformat_minor": 1
}
